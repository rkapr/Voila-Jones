{
 "cells": [
  {
   "cell_type": "markdown",
   "metadata": {},
   "source": [
    "### Run this file before running adaboost.ipynb:"
   ]
  },
  {
   "cell_type": "code",
   "execution_count": 2,
   "metadata": {},
   "outputs": [],
   "source": [
    "import cv2\n",
    "import imutils\n",
    "import matplotlib\n",
    "import numpy as np\n",
    "import pandas as pd"
   ]
  },
  {
   "cell_type": "code",
   "execution_count": 3,
   "metadata": {},
   "outputs": [],
   "source": [
    "with open('../faces.txt') as fp:\n",
    "    faces_files_path = fp.readlines()\n",
    "with open('../non-faces.txt') as nfp:\n",
    "    nonfaces_files_path = nfp.readlines()\n",
    "    \n",
    "Feature1_indices = pd.read_csv('Int_image_indices/Feature1_indices.csv')\n",
    "Feature2_indices = pd.read_csv('Int_image_indices/Feature2_indices.csv')\n",
    "Feature3_indices = pd.read_csv('Int_image_indices/Feature3_indices.csv')\n",
    "Feature4_indices = pd.read_csv('Int_image_indices/Feature4_indices.csv')\n",
    "Feature5_indices = pd.read_csv('Int_image_indices/Feature5_indices.csv')"
   ]
  },
  {
   "cell_type": "code",
   "execution_count": 8,
   "metadata": {},
   "outputs": [],
   "source": [
    "#Integral Image access function\n",
    "def getIntImageValues(Int_image, index_i,index_j):\n",
    "            index_valid = (index_i>=0)*(index_j>=0)\n",
    "            index_i_valid=(index_valid*index_i).astype(int)\n",
    "            index_j_valid=(index_valid*index_j).astype(int)\n",
    "            return Int_image[index_i_valid,index_j_valid]-Int_image[0,0]*np.invert(index_valid)\n",
    "A=getIntImageValues\n",
    "detectorWidth=19\n",
    "w = detectorWidth"
   ]
  },
  {
   "cell_type": "code",
   "execution_count": 4,
   "metadata": {},
   "outputs": [],
   "source": [
    "def getFeature1Values(Int_image, K_min,K_max,J_min,J_max,J_min_up,J_max_up):\n",
    "            Bottom_area=A(Int_image,J_max,K_max)-A(Int_image,J_max,K_min-1)-\\\n",
    "A(Int_image,J_min-1,K_max)+A(Int_image,J_min-1,K_min-1)\n",
    "            Top_area=A(Int_image,J_max_up,K_max)-A(Int_image,J_max_up,K_min-1)-\\\n",
    "A(Int_image,J_min_up-1,K_max)+A(Int_image,J_min_up-1,K_min-1)\n",
    "            return Bottom_area-Top_area\n",
    "def getFeature2Values(Int_image, K_min,K_max,J_min,J_max,K_min_right,K_max_right):\n",
    "            Left_area=A(Int_image,J_max,K_max)-A(Int_image,J_max,K_min-1)-\\\n",
    "A(Int_image,J_min-1,K_max)+A(Int_image,J_min-1,K_min-1)\n",
    "            Right_area=A(Int_image,J_max,K_max_right)-A(Int_image,J_max,K_min_right-1)-\\\n",
    "A(Int_image,J_min-1,K_max_right)+A(Int_image,J_min-1,K_min_right-1)\n",
    "            return Right_area-Left_area\n",
    "def getFeature3Values(Int_image, K_min,K_max,K_min_middle,K_max_middle,K_min_right,K_max_right,J_min,J_max):\n",
    "            Left_area=A(Int_image,J_max,K_max)-A(Int_image,J_max,K_min-1)-\\\n",
    "A(Int_image,J_min-1,K_max)+A(Int_image,J_min-1,K_min-1)\n",
    "            Middle_area=A(Int_image,J_max,K_max_middle)-A(Int_image,J_max,K_min_middle-1)-\\\n",
    "A(Int_image,J_min-1,K_max_middle)+A(Int_image,J_min-1,K_min_middle-1)\n",
    "            Right_area=A(Int_image,J_max,K_max_right)-A(Int_image,J_max,K_min_right-1)-\\\n",
    "A(Int_image,J_min-1,K_max_right)+A(Int_image,J_min-1,K_min_right-1)\n",
    "            return Right_area+Left_area-Middle_area\n",
    "def getFeature4Values(Int_image, J_min,J_max,J_min_middle,J_max_middle,J_min_up,J_max_up,K_min,K_max):\n",
    "            Top_area=A(Int_image,J_max_up,K_max)-A(Int_image,J_max_up,K_min-1)-\\\n",
    "A(Int_image,J_min_up-1,K_max)+A(Int_image,J_min_up-1,K_min-1)\n",
    "            Middle_area=A(Int_image,J_max_middle,K_max)-A(Int_image,J_max_middle,K_min-1)-\\\n",
    "A(Int_image,J_min_middle-1,K_max)+A(Int_image,J_min_middle-1,K_min-1)\n",
    "            Bottom_area=A(Int_image,J_max,K_max)-A(Int_image,J_max,K_min-1)-\\\n",
    "A(Int_image,J_min-1,K_max)+A(Int_image,J_min-1,K_min-1)\n",
    "            return Top_area+Bottom_area-Middle_area\n",
    "def getFeature5Values(Int_image, K_min,K_max,J_min,J_max,K_min_right,K_max_right,J_min_up,J_max_up):\n",
    "            TopLeft_area=A(Int_image,J_max_up,K_max)-A(Int_image,J_max_up,K_min-1)-\\\n",
    "A(Int_image,J_min_up-1,K_max)+A(Int_image,J_min_up-1,K_min-1)\n",
    "            TopRight_area=A(Int_image,J_max_up,K_max_right)-A(Int_image,J_max_up,K_min_right-1)-\\\n",
    "A(Int_image,J_min_up-1,K_max_right)+A(Int_image,J_min_up-1,K_min_right-1)\n",
    "            BottomLeft_area=A(Int_image,J_max,K_max)-A(Int_image,J_max,K_min-1)-\\\n",
    "A(Int_image,J_min-1,K_max)+A(Int_image,J_min-1,K_min-1)\n",
    "            BottomRight_area=A(Int_image,J_max,K_max_right)-A(Int_image,J_max,K_min_right-1)-\\\n",
    "A(Int_image,J_min-1,K_max_right)+A(Int_image,J_min-1,K_min_right-1)\n",
    "            return TopLeft_area+BottomRight_area-TopRight_area-BottomLeft_area\n"
   ]
  },
  {
   "cell_type": "code",
   "execution_count": 5,
   "metadata": {},
   "outputs": [],
   "source": [
    "def find_features(image_path,detectorWidth=19):\n",
    "    img=cv2.imread(image_path,cv2.IMREAD_GRAYSCALE)\n",
    "    img = np.asarray(imutils.resize(img, width=detectorWidth),dtype=\"int64\")\n",
    "    Matrix_S=np.reshape([np.sum(img[range(j+1),:],axis=0) \n",
    "                         for j in range(detectorWidth)],(detectorWidth,detectorWidth))\n",
    "    Int_image=np.transpose(np.reshape([np.sum(Matrix_S[:,range(j+1)],axis=1) \n",
    "                                   for j in range(detectorWidth)],(detectorWidth,detectorWidth)))\n",
    "    Feature1=getFeature1Values(Int_image, np.array(Feature1_indices.K_min),np.array(Feature1_indices.K_max)\\\n",
    "                           ,np.array(Feature1_indices.J_min),np.array(Feature1_indices.J_max),\\\n",
    "                           np.array(Feature1_indices.J_min_up),np.array(Feature1_indices.J_max_up) )\n",
    "    Feature2=getFeature2Values(Int_image, np.array(Feature2_indices.K_min),np.array(Feature2_indices.K_max)\\\n",
    "                           ,np.array(Feature2_indices.J_min),np.array(Feature2_indices.J_max),\\\n",
    "                           np.array(Feature2_indices.K_min_right),np.array(Feature2_indices.K_max_right) )\n",
    "    Feature3=getFeature3Values(Int_image, np.array(Feature3_indices.K_min),np.array(Feature3_indices.K_max)\\\n",
    "                           ,np.array(Feature3_indices.K_min_middle),np.array(Feature3_indices.K_max_middle)\\\n",
    "                           ,np.array(Feature3_indices.K_min_right),np.array(Feature3_indices.K_max_right)\\\n",
    "                           ,np.array(Feature3_indices.J_min),np.array(Feature3_indices.J_max) )\n",
    "    Feature4=getFeature4Values(Int_image, np.array(Feature4_indices.J_min),np.array(Feature4_indices.J_max)\\\n",
    "                           ,np.array(Feature4_indices.J_min_middle),np.array(Feature4_indices.J_max_middle)\\\n",
    "                           ,np.array(Feature4_indices.J_min_up),np.array(Feature4_indices.J_max_up)\\\n",
    "                           ,np.array(Feature4_indices.K_min),np.array(Feature4_indices.K_max) )\n",
    "    Feature5=getFeature5Values(Int_image, np.array(Feature5_indices.K_min),np.array(Feature5_indices.K_max)\\\n",
    "                           ,np.array(Feature5_indices.J_min),np.array(Feature5_indices.J_max)\\\n",
    "                           ,np.array(Feature5_indices.K_min_right),np.array(Feature5_indices.K_max_right)\\\n",
    "                           ,np.array(Feature5_indices.J_min_up),np.array(Feature5_indices.J_max_up) )\n",
    "    return np.concatenate((Feature1,Feature2,Feature3,Feature4,Feature5))"
   ]
  },
  {
   "cell_type": "markdown",
   "metadata": {},
   "source": [
    "### Change data location in below cell:"
   ]
  },
  {
   "cell_type": "code",
   "execution_count": 9,
   "metadata": {},
   "outputs": [],
   "source": [
    "features_faces=np.vstack([find_features(str('../dataset/trainset/faces/'+image_path).rstrip(\"\\n\\r\")) \n",
    "           for image_path in faces_files_path])"
   ]
  },
  {
   "cell_type": "code",
   "execution_count": 10,
   "metadata": {},
   "outputs": [],
   "source": [
    "np.save('features_faces.npy', features_faces)"
   ]
  },
  {
   "cell_type": "markdown",
   "metadata": {},
   "source": [
    "### Change data location in below cell:"
   ]
  },
  {
   "cell_type": "code",
   "execution_count": null,
   "metadata": {},
   "outputs": [],
   "source": [
    "features_nonfaces=np.vstack([find_features(str('../dataset/trainset/non-faces/'+image_path).rstrip(\"\\n\\r\"))\n",
    "                          for image_path in nonfaces_files_path])"
   ]
  },
  {
   "cell_type": "code",
   "execution_count": null,
   "metadata": {},
   "outputs": [],
   "source": [
    "np.save('features_nonfaces.npy', features_nonfaces)"
   ]
  },
  {
   "cell_type": "code",
   "execution_count": null,
   "metadata": {},
   "outputs": [],
   "source": []
  }
 ],
 "metadata": {
  "kernelspec": {
   "display_name": "Python 3",
   "language": "python",
   "name": "python3"
  },
  "language_info": {
   "codemirror_mode": {
    "name": "ipython",
    "version": 3
   },
   "file_extension": ".py",
   "mimetype": "text/x-python",
   "name": "python",
   "nbconvert_exporter": "python",
   "pygments_lexer": "ipython3",
   "version": "3.6.7"
  }
 },
 "nbformat": 4,
 "nbformat_minor": 2
}
