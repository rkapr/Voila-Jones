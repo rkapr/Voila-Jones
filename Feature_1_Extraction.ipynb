{
 "cells": [
  {
   "cell_type": "markdown",
   "metadata": {},
   "source": [
    "## Run cells sequentially:"
   ]
  },
  {
   "cell_type": "code",
   "execution_count": 2,
   "metadata": {},
   "outputs": [],
   "source": [
    "import cv2\n",
    "import imutils\n",
    "import matplotlib\n",
    "import numpy as np\n",
    "\n",
    "img=cv2.imread('/scratch/user/r.kapoor/compete/ECEN649_Project_files/dataset/trainset/faces/face00001.png',\n",
    "               cv2.IMREAD_GRAYSCALE)\n",
    "scale=3\n",
    "w = int(img.shape[1] / scale)\n",
    "img2 = np.asarray(imutils.resize(img, width=w),dtype=\"int64\")"
   ]
  },
  {
   "cell_type": "code",
   "execution_count": 3,
   "metadata": {},
   "outputs": [],
   "source": [
    "detectorWidth=19\n",
    "scale=1\n",
    "w = detectorWidth#int(img.shape[1] / scale)\n",
    "img = np.asarray(imutils.resize(img, width=w),dtype=\"int64\")"
   ]
  },
  {
   "cell_type": "code",
   "execution_count": 4,
   "metadata": {},
   "outputs": [],
   "source": [
    "#Integral Image\n",
    "Matrix_S=np.reshape([np.sum(img[range(j+1),:],axis=0) for j in range(detectorWidth)],(detectorWidth,detectorWidth))\n",
    "Int_image=np.transpose(np.reshape([np.sum(Matrix_S[:,range(j+1)],axis=1) \n",
    "                                   for j in range(detectorWidth)],(detectorWidth,detectorWidth)))"
   ]
  },
  {
   "cell_type": "code",
   "execution_count": 5,
   "metadata": {},
   "outputs": [],
   "source": [
    "#Integral Image access function\n",
    "def getIntImageValues(Int_image, index_i,index_j):\n",
    "            index_valid = (index_i>=0)*(index_j>=0)\n",
    "            index_i_valid=(index_valid*index_i).astype(int)\n",
    "            index_j_valid=(index_valid*index_j).astype(int)\n",
    "            return Int_image[index_i_valid,index_j_valid]-Int_image[0,0]*np.invert(index_valid)\n",
    "A=getIntImageValues"
   ]
  },
  {
   "cell_type": "code",
   "execution_count": 6,
   "metadata": {},
   "outputs": [],
   "source": [
    "def getFeature1_vertices(detectorWidth, haar_j_len,haar_k_len):\n",
    "    Bottom_j=[ [j,j-np.int(haar_j_len/2)+1] for j in range(haar_j_len-1,detectorWidth) \n",
    "              for k in range(detectorWidth-haar_k_len+1)]\n",
    "    Bottom_up_k=[[k,k+haar_k_len-1]\n",
    "              for j in range(haar_j_len-1,detectorWidth) \n",
    "              for k in range(detectorWidth-haar_k_len+1)]\n",
    "    Top_j=[ [j-np.int(haar_j_len/2),j-haar_j_len+1] for j in range(haar_j_len-1,detectorWidth) \n",
    "              for k in range(detectorWidth-haar_k_len+1)]\n",
    "    #np.array( [j,k] for j in Up_j  for k in Up_k )\n",
    "    return  (Bottom_j,Bottom_up_k,Top_j)"
   ]
  },
  {
   "cell_type": "code",
   "execution_count": 7,
   "metadata": {},
   "outputs": [],
   "source": [
    "#Extremes of covered area\n",
    "def k_min(a):\n",
    "    \"\"\"Min value of j for vertex (i,j) within haar feature 1\"\"\"\n",
    "    return a[0]\n",
    "def k_max(a):\n",
    "    \"\"\"Max value of j for vertex (i,j) within haar feature 1\"\"\"\n",
    "    return a[1]\n",
    "def j_min(a):\n",
    "    \"\"\"Min value of i for vertex (i,j) within haar feature 1\"\"\"\n",
    "    return a[1]\n",
    "def j_max(a):\n",
    "    \"\"\"Max value of i for vertex (i,j) within haar feature 1\"\"\"\n",
    "    return a[0]"
   ]
  },
  {
   "cell_type": "code",
   "execution_count": 8,
   "metadata": {},
   "outputs": [],
   "source": [
    "#detectorWidth=19\n",
    "haar_J_len=np.arange(2,2*int(detectorWidth/2)+1,2)\n",
    "haar_K_len=np.arange(1,detectorWidth+1)\n",
    "num_features_subtypes=len([(m,n) for m in haar_J_len for n in haar_K_len])"
   ]
  },
  {
   "cell_type": "code",
   "execution_count": 9,
   "metadata": {},
   "outputs": [],
   "source": [
    "def feature1_IntImage_vertices(detectorWidth, haar_j_len,haar_k_len):\n",
    "    Bottom_j,Bottom_up_k,Top_j =getFeature1_vertices(detectorWidth, haar_j_len,haar_k_len)\n",
    "    K_min=np.apply_along_axis(k_min,1,Bottom_up_k).astype(int)\n",
    "    K_max=np.apply_along_axis(k_max,1,Bottom_up_k).astype(int)\n",
    "    J_min=np.apply_along_axis(j_min,1,Bottom_j).astype(int)\n",
    "    J_max=np.apply_along_axis(j_max,1,Bottom_j).astype(int)\n",
    "    J_min_up =np.apply_along_axis(j_min,1,Top_j).astype(int)\n",
    "    J_max_up =np.apply_along_axis(j_max,1,Top_j).astype(int)\n",
    "    return (K_min,K_max,J_min,J_max,J_min_up,J_max_up)"
   ]
  },
  {
   "cell_type": "code",
   "execution_count": 10,
   "metadata": {},
   "outputs": [],
   "source": [
    "my_result=[feature1_IntImage_vertices(detectorWidth, m,n)\\\n",
    "for m in haar_J_len for n in haar_K_len]"
   ]
  },
  {
   "cell_type": "code",
   "execution_count": 11,
   "metadata": {},
   "outputs": [],
   "source": [
    "K_min=np.array([]).astype(int)\n",
    "K_max=np.array([]).astype(int)\n",
    "J_min=np.array([]).astype(int)\n",
    "J_max=np.array([]).astype(int)\n",
    "J_min_up =np.array([]).astype(int)\n",
    "J_max_up =np.array([]).astype(int)\n",
    "for j in range(num_features_subtypes):\n",
    "    K_min = np.append(K_min,my_result[j][0]).astype(int)\n",
    "    K_max = np.append(K_max,my_result[j][1]).astype(int)\n",
    "    J_min = np.append(J_min,my_result[j][2]).astype(int)\n",
    "    J_max = np.append(J_max,my_result[j][3]).astype(int)\n",
    "    J_min_up = np.append(J_min_up,my_result[j][4]).astype(int)\n",
    "    J_max_up = np.append(J_max_up,my_result[j][5]).astype(int)"
   ]
  },
  {
   "cell_type": "code",
   "execution_count": 12,
   "metadata": {},
   "outputs": [],
   "source": [
    "import pandas as pd\n",
    "Feature1_indices = pd.DataFrame({ 'K_min': K_min, 'K_max': K_max,\\\n",
    "                                'J_min':J_min, 'J_max':J_max,\\\n",
    "                                'J_min_up':J_min_up, 'J_max_up':J_max_up})\n",
    "Feature1_indices.to_csv(\"Int_image_indices/Feature1_indices.csv\")"
   ]
  },
  {
   "cell_type": "code",
   "execution_count": 13,
   "metadata": {},
   "outputs": [],
   "source": [
    "def getFeature1Values(Int_image, K_min,K_max,J_min,J_max,J_min_up,J_max_up):\n",
    "            Bottom_area=A(Int_image,J_max,K_max)-A(Int_image,J_max,K_min-1)-\\\n",
    "A(Int_image,J_min-1,K_max)+A(Int_image,J_min-1,K_min-1)\n",
    "            Top_area=A(Int_image,J_max_up,K_max)-A(Int_image,J_max_up,K_min-1)-\\\n",
    "A(Int_image,J_min_up-1,K_max)+A(Int_image,J_min_up-1,K_min-1)\n",
    "            return Bottom_area-Top_area"
   ]
  },
  {
   "cell_type": "code",
   "execution_count": 14,
   "metadata": {},
   "outputs": [],
   "source": [
    "Feature1=getFeature1Values(Int_image, K_min,K_max,J_min,J_max,J_min_up,J_max_up)"
   ]
  },
  {
   "cell_type": "code",
   "execution_count": 15,
   "metadata": {},
   "outputs": [
    {
     "data": {
      "text/plain": [
       "(17100,)"
      ]
     },
     "execution_count": 15,
     "metadata": {},
     "output_type": "execute_result"
    }
   ],
   "source": [
    "Feature1.shape"
   ]
  },
  {
   "cell_type": "code",
   "execution_count": null,
   "metadata": {},
   "outputs": [],
   "source": []
  }
 ],
 "metadata": {
  "kernelspec": {
   "display_name": "Python 3",
   "language": "python",
   "name": "python3"
  },
  "language_info": {
   "codemirror_mode": {
    "name": "ipython",
    "version": 3
   },
   "file_extension": ".py",
   "mimetype": "text/x-python",
   "name": "python",
   "nbconvert_exporter": "python",
   "pygments_lexer": "ipython3",
   "version": "3.6.7"
  }
 },
 "nbformat": 4,
 "nbformat_minor": 2
}
