{
 "cells": [
  {
   "cell_type": "markdown",
   "metadata": {},
   "source": [
    "### Change data directory below and execute cells in order"
   ]
  },
  {
   "cell_type": "code",
   "execution_count": 1,
   "metadata": {},
   "outputs": [],
   "source": [
    "import cv2\n",
    "import imutils\n",
    "import matplotlib\n",
    "import numpy as np\n",
    "\n",
    "img=cv2.imread('/scratch/user/r.kapoor/compete/ECEN649_Project_files/dataset/trainset/faces/face00001.png',\n",
    "               cv2.IMREAD_GRAYSCALE)\n",
    "scale=3\n",
    "w = int(img.shape[1] / scale)\n",
    "img2 = np.asarray(imutils.resize(img, width=w),dtype=\"int32\")"
   ]
  },
  {
   "cell_type": "code",
   "execution_count": 2,
   "metadata": {},
   "outputs": [],
   "source": [
    "detectorWidth=19\n",
    "scale=1\n",
    "w = detectorWidth#int(img.shape[1] / scale)\n",
    "img = np.asarray(imutils.resize(img, width=w),dtype=\"int64\")"
   ]
  },
  {
   "cell_type": "code",
   "execution_count": 3,
   "metadata": {},
   "outputs": [],
   "source": [
    "#Integral Image\n",
    "Matrix_S=np.reshape([np.sum(img[range(j+1),:],axis=0) for j in range(detectorWidth)],(detectorWidth,detectorWidth))\n",
    "Int_image=np.transpose(np.reshape([np.sum(Matrix_S[:,range(j+1)],axis=1) \n",
    "                                   for j in range(detectorWidth)],(detectorWidth,detectorWidth)))"
   ]
  },
  {
   "cell_type": "code",
   "execution_count": 4,
   "metadata": {},
   "outputs": [],
   "source": [
    "#Integral Image access function\n",
    "def getIntImageValues(Int_image, index_i,index_j):\n",
    "            index_valid = (index_i>=0)*(index_j>=0)\n",
    "            index_i_valid=(index_valid*index_i).astype(int)\n",
    "            index_j_valid=(index_valid*index_j).astype(int)\n",
    "            return Int_image[index_i_valid,index_j_valid]-Int_image[0,0]*np.invert(index_valid)\n",
    "A=getIntImageValues"
   ]
  },
  {
   "cell_type": "code",
   "execution_count": 5,
   "metadata": {},
   "outputs": [],
   "source": [
    "def getFeature2_vertices(detectorWidth, haar_j_len,haar_k_len):\n",
    "    Left_k=[ [k,k+np.int(haar_k_len/2)-1] for j in range(haar_j_len-1,detectorWidth)\n",
    "                  for k in range(detectorWidth-haar_k_len+1) \n",
    "                  ]\n",
    "    Left_right_j=[ [j,j-haar_j_len+1] \n",
    "                  for j in range(haar_j_len-1,detectorWidth)\n",
    "                  for k in range(detectorWidth-haar_k_len+1) \n",
    "                  ]\n",
    "    Right_k=[[k+np.int(haar_k_len/2),k+haar_k_len-1]\n",
    "              for j in range(haar_j_len-1,detectorWidth) \n",
    "              for k in range(detectorWidth-haar_k_len+1)]\n",
    "    #np.array( [j,k] for j in Up_j  for k in Up_k )\n",
    "    return  (Left_k,Left_right_j,Right_k)"
   ]
  },
  {
   "cell_type": "code",
   "execution_count": 6,
   "metadata": {},
   "outputs": [],
   "source": [
    "#Extremes of covered area\n",
    "def k_min(a):\n",
    "    \"\"\"Min value of j for vertex (i,j) within haar feature 1\"\"\"\n",
    "    return a[0]\n",
    "def k_max(a):\n",
    "    \"\"\"Max value of j for vertex (i,j) within haar feature 1\"\"\"\n",
    "    return a[1]\n",
    "def j_min(a):\n",
    "    \"\"\"Min value of i for vertex (i,j) within haar feature 1\"\"\"\n",
    "    return a[1]\n",
    "def j_max(a):\n",
    "    \"\"\"Max value of i for vertex (i,j) within haar feature 1\"\"\"\n",
    "    return a[0]"
   ]
  },
  {
   "cell_type": "code",
   "execution_count": 7,
   "metadata": {},
   "outputs": [],
   "source": [
    "def feature2_IntImage_vertices(detectorWidth, haar_j_len,haar_k_len):\n",
    "    Left_k,Left_right_j,Right_k=getFeature2_vertices(detectorWidth, haar_j_len,haar_k_len)\n",
    "    K_min=np.apply_along_axis(k_min,1,Left_k).astype(int)\n",
    "    K_max=np.apply_along_axis(k_max,1,Left_k).astype(int)\n",
    "    J_min=np.apply_along_axis(j_min,1,Left_right_j).astype(int)\n",
    "    J_max=np.apply_along_axis(j_max,1,Left_right_j).astype(int)\n",
    "    K_min_right =np.apply_along_axis(k_min,1,Right_k).astype(int)\n",
    "    K_max_right =np.apply_along_axis(k_max,1,Right_k).astype(int)\n",
    "    return (K_min,K_max,J_min,J_max,K_min_right,K_max_right)"
   ]
  },
  {
   "cell_type": "code",
   "execution_count": 8,
   "metadata": {},
   "outputs": [],
   "source": [
    "\n",
    "haar_K_len=np.arange(2,2*int(detectorWidth/2)+1,2)\n",
    "haar_J_len=np.arange(1,detectorWidth+1)\n",
    "num_features_subtypes=len([(m,n) for m in haar_J_len for n in haar_K_len])"
   ]
  },
  {
   "cell_type": "code",
   "execution_count": 9,
   "metadata": {},
   "outputs": [],
   "source": [
    "my_result=[feature2_IntImage_vertices(detectorWidth, m,n)\\\n",
    "for m in haar_J_len for n in haar_K_len]"
   ]
  },
  {
   "cell_type": "code",
   "execution_count": 10,
   "metadata": {},
   "outputs": [],
   "source": [
    "K_min=np.array([]).astype(int)\n",
    "K_max=np.array([]).astype(int)\n",
    "J_min=np.array([]).astype(int)\n",
    "J_max=np.array([]).astype(int)\n",
    "K_min_right =np.array([]).astype(int)\n",
    "K_max_right =np.array([]).astype(int)\n",
    "for j in range(num_features_subtypes):\n",
    "    K_min = np.append(K_min,my_result[j][0]).astype(int)\n",
    "    K_max = np.append(K_max,my_result[j][1]).astype(int)\n",
    "    J_min = np.append(J_min,my_result[j][2]).astype(int)\n",
    "    J_max = np.append(J_max,my_result[j][3]).astype(int)\n",
    "    K_min_right = np.append(K_min_right,my_result[j][4]).astype(int)\n",
    "    K_max_right = np.append(K_max_right,my_result[j][5]).astype(int)"
   ]
  },
  {
   "cell_type": "code",
   "execution_count": 11,
   "metadata": {},
   "outputs": [],
   "source": [
    "import pandas as pd\n",
    "Feature2_indices = pd.DataFrame({ 'K_min': K_min, 'K_max': K_max,\\\n",
    "                                'J_min':J_min, 'J_max':J_max,\\\n",
    "                                'K_min_right':K_min_right, 'K_max_right':K_max_right})\n",
    "Feature2_indices.to_csv(\"Int_image_indices/Feature2_indices.csv\")"
   ]
  },
  {
   "cell_type": "code",
   "execution_count": 12,
   "metadata": {},
   "outputs": [],
   "source": [
    "def getFeature2Values(Int_image, K_min,K_max,J_min,J_max,K_min_right,K_max_right):\n",
    "            Left_area=A(Int_image,J_max,K_max)-A(Int_image,J_max,K_min-1)-\\\n",
    "A(Int_image,J_min-1,K_max)+A(Int_image,J_min-1,K_min-1)\n",
    "            Right_area=A(Int_image,J_max,K_max_right)-A(Int_image,J_max,K_min_right-1)-\\\n",
    "A(Int_image,J_min-1,K_max_right)+A(Int_image,J_min-1,K_min_right-1)\n",
    "            return Right_area-Left_area"
   ]
  },
  {
   "cell_type": "code",
   "execution_count": 13,
   "metadata": {},
   "outputs": [],
   "source": [
    "Feature2=getFeature2Values(Int_image, K_min,K_max,J_min,J_max,K_min_right,K_max_right)"
   ]
  },
  {
   "cell_type": "code",
   "execution_count": 14,
   "metadata": {},
   "outputs": [
    {
     "data": {
      "text/plain": [
       "(17100,)"
      ]
     },
     "execution_count": 14,
     "metadata": {},
     "output_type": "execute_result"
    }
   ],
   "source": [
    "Feature2.shape"
   ]
  },
  {
   "cell_type": "markdown",
   "metadata": {},
   "source": [
    "### ---Code finished---"
   ]
  },
  {
   "cell_type": "code",
   "execution_count": 18,
   "metadata": {},
   "outputs": [
    {
     "data": {
      "text/plain": [
       "K_min           9\n",
       "K_max          13\n",
       "J_min           2\n",
       "J_max          18\n",
       "K_min_right    14\n",
       "K_max_right    18\n",
       "Name: 16769, dtype: int64"
      ]
     },
     "execution_count": 18,
     "metadata": {},
     "output_type": "execute_result"
    }
   ],
   "source": [
    "Feature2_indices.iloc[16769,:]"
   ]
  }
 ],
 "metadata": {
  "kernelspec": {
   "display_name": "Python 3",
   "language": "python",
   "name": "python3"
  },
  "language_info": {
   "codemirror_mode": {
    "name": "ipython",
    "version": 3
   },
   "file_extension": ".py",
   "mimetype": "text/x-python",
   "name": "python",
   "nbconvert_exporter": "python",
   "pygments_lexer": "ipython3",
   "version": "3.6.7"
  }
 },
 "nbformat": 4,
 "nbformat_minor": 2
}
