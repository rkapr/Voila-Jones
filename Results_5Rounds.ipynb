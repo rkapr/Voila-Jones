{
 "cells": [
  {
   "cell_type": "markdown",
   "metadata": {},
   "source": [
    "### Change data directory and execute cells sequentially"
   ]
  },
  {
   "cell_type": "code",
   "execution_count": null,
   "metadata": {},
   "outputs": [],
   "source": [
    "import cv2\n",
    "import imutils\n",
    "import matplotlib\n",
    "import numpy as np\n",
    "\n",
    "img=cv2.imread('/scratch/user/r.kapoor/compete/ECEN649_Project_files/dataset/trainset/faces/face00001.png',\n",
    "               cv2.IMREAD_GRAYSCALE)"
   ]
  },
  {
   "cell_type": "code",
   "execution_count": null,
   "metadata": {},
   "outputs": [],
   "source": [
    "!awk 'NR==16771{print $0}' Int_image_indices/Feature2_indices.csv\n",
    "!awk 'NR==13746{print $0}' Int_image_indices/Feature2_indices.csv\n",
    "!head -1 Int_image_indices/Feature2_indices.csv\n",
    "!awk 'NR==14774{print $0}' Int_image_indices/Feature1_indices.csv\n",
    "!awk 'NR==11337{print $0}' Int_image_indices/Feature1_indices.csv\n",
    "!awk 'NR==13213{print $0}' Int_image_indices/Feature1_indices.csv\n",
    "!head -1 Int_image_indices/Feature2_indices.csv"
   ]
  },
  {
   "cell_type": "raw",
   "metadata": {},
   "source": [
    "9,13,2,18,14,18\n",
    "K_min,K_max,J_min,J_max,K_min_right,K_max_right"
   ]
  },
  {
   "cell_type": "code",
   "execution_count": null,
   "metadata": {},
   "outputs": [],
   "source": [
    "%matplotlib inline\n",
    "from matplotlib import pyplot as plt\n",
    "clone = img.copy()\n",
    "cv2.rectangle(clone, (9,2), (13, 18), (0, 0, 0), 1)\n",
    "cv2.rectangle(clone, (14,2), (18, 18), (0, 0, 0),-1)\n",
    "\n",
    "plt.imshow(clone,cmap='gray')\n",
    "plt.show()\n",
    "cv2.imwrite('Round_1.png',clone)"
   ]
  },
  {
   "cell_type": "raw",
   "metadata": {},
   "source": [
    "14772,0,16,6,11,0,5\n",
    ",K_min,K_max,J_min,J_max,J_min_up,J_max_up"
   ]
  },
  {
   "cell_type": "code",
   "execution_count": null,
   "metadata": {},
   "outputs": [],
   "source": [
    "%matplotlib inline\n",
    "from matplotlib import pyplot as plt\n",
    "clone = img.copy()\n",
    "cv2.rectangle(clone, (0,6), (16, 11), (0, 0, 0), 1)\n",
    "cv2.rectangle(clone, (0,0), (16, 5), (0, 0, 0),-1)\n",
    "plt.imshow(clone,cmap='gray')\n",
    "plt.show()\n",
    "cv2.imwrite('Round_2.png',clone)"
   ]
  },
  {
   "cell_type": "raw",
   "metadata": {},
   "source": [
    "**13211**:\n",
    "13211,3,18,7,11,2,6\n",
    ",K_min,K_max,J_min,J_max,J_min_up,J_max_up"
   ]
  },
  {
   "cell_type": "code",
   "execution_count": null,
   "metadata": {},
   "outputs": [],
   "source": [
    "%matplotlib inline\n",
    "from matplotlib import pyplot as plt\n",
    "clone = img.copy()\n",
    "cv2.rectangle(clone, (3,7), (18, 11), (0, 0, 0), 1)\n",
    "cv2.rectangle(clone, (3,2), (18, 6), (0, 0, 0),-1)\n",
    "plt.imshow(clone,cmap='gray')\n",
    "plt.show()\n",
    "cv2.imwrite('Round_3.png',clone)"
   ]
  },
  {
   "cell_type": "raw",
   "metadata": {},
   "source": [
    "**30843**:\n",
    "30843-17099=13744\n",
    "13744,0,5,8,18,6,11\n",
    ",K_min,K_max,J_min,J_max,K_min_right,K_max_right"
   ]
  },
  {
   "cell_type": "code",
   "execution_count": null,
   "metadata": {},
   "outputs": [],
   "source": [
    "%matplotlib inline\n",
    "from matplotlib import pyplot as plt\n",
    "clone = img.copy()\n",
    "cv2.rectangle(clone, (0,8), (5, 18), (0, 0, 0), 1)\n",
    "cv2.rectangle(clone, (6,8), (11, 18), (0, 0, 0),-1)\n",
    "plt.imshow(clone,cmap='gray')\n",
    "plt.show()\n",
    "cv2.imwrite('Round_4.png',clone)"
   ]
  },
  {
   "cell_type": "raw",
   "metadata": {},
   "source": [
    "**11335**:\n",
    "11335,1,17,6,9,2,5\n",
    ",K_min,K_max,J_min,J_max,J_min_up,J_max_up"
   ]
  },
  {
   "cell_type": "code",
   "execution_count": null,
   "metadata": {},
   "outputs": [],
   "source": [
    "%matplotlib inline\n",
    "from matplotlib import pyplot as plt\n",
    "clone = img.copy()\n",
    "cv2.rectangle(clone, (1,6), (17, 9), (0, 0, 0), 1)\n",
    "cv2.rectangle(clone, (1,2), (17, 5), (0, 0, 0),-1)\n",
    "plt.imshow(clone,cmap='gray')\n",
    "plt.show()\n",
    "cv2.imwrite('Round_5.png',clone)"
   ]
  },
  {
   "cell_type": "code",
   "execution_count": null,
   "metadata": {},
   "outputs": [],
   "source": []
  }
 ],
 "metadata": {
  "kernelspec": {
   "display_name": "Python 3",
   "language": "python",
   "name": "python3"
  },
  "language_info": {
   "codemirror_mode": {
    "name": "ipython",
    "version": 3
   },
   "file_extension": ".py",
   "mimetype": "text/x-python",
   "name": "python",
   "nbconvert_exporter": "python",
   "pygments_lexer": "ipython3",
   "version": "3.6.7"
  }
 },
 "nbformat": 4,
 "nbformat_minor": 2
}
